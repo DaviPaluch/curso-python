{
 "cells": [
  {
   "cell_type": "code",
   "execution_count": 92,
   "id": "5ade8e72",
   "metadata": {},
   "outputs": [],
   "source": [
    "import pandas as pd"
   ]
  },
  {
   "cell_type": "code",
   "execution_count": 93,
   "id": "2cb44525",
   "metadata": {},
   "outputs": [],
   "source": [
    "url = \"https://gist.githubusercontent.com/tgcsantos/3bdb29eba6ce391e90df2b72205ba891/raw/22fa920e80c9fa209a9fccc8b52d74cc95d1599b/dados_imoveis.csv\""
   ]
  },
  {
   "cell_type": "code",
   "execution_count": 94,
   "id": "6bb3eda6",
   "metadata": {},
   "outputs": [],
   "source": [
    "dados = pd.read_csv(url)"
   ]
  },
  {
   "cell_type": "code",
   "execution_count": 95,
   "id": "2c7aa50f",
   "metadata": {},
   "outputs": [
    {
     "data": {
      "text/html": [
       "<div>\n",
       "<style scoped>\n",
       "    .dataframe tbody tr th:only-of-type {\n",
       "        vertical-align: middle;\n",
       "    }\n",
       "\n",
       "    .dataframe tbody tr th {\n",
       "        vertical-align: top;\n",
       "    }\n",
       "\n",
       "    .dataframe thead th {\n",
       "        text-align: right;\n",
       "    }\n",
       "</style>\n",
       "<table border=\"1\" class=\"dataframe\">\n",
       "  <thead>\n",
       "    <tr style=\"text-align: right;\">\n",
       "      <th></th>\n",
       "      <th>Rua</th>\n",
       "      <th>Bairro</th>\n",
       "      <th>Cidade</th>\n",
       "      <th>Metragem</th>\n",
       "      <th>Quartos</th>\n",
       "      <th>Banheiros</th>\n",
       "      <th>Vagas</th>\n",
       "      <th>Valor</th>\n",
       "    </tr>\n",
       "  </thead>\n",
       "  <tbody>\n",
       "    <tr>\n",
       "      <th>0</th>\n",
       "      <td>Avenida Itacira, 255</td>\n",
       "      <td>Planalto Paulista</td>\n",
       "      <td>São Paulo</td>\n",
       "      <td>1000</td>\n",
       "      <td>4</td>\n",
       "      <td>8</td>\n",
       "      <td>6</td>\n",
       "      <td>R$ 7.000.000</td>\n",
       "    </tr>\n",
       "    <tr>\n",
       "      <th>1</th>\n",
       "      <td>Rua Aurelia Perez Alvarez, 42</td>\n",
       "      <td>Jardim dos Estados</td>\n",
       "      <td>São Paulo</td>\n",
       "      <td>496</td>\n",
       "      <td>4</td>\n",
       "      <td>4</td>\n",
       "      <td>4</td>\n",
       "      <td>R$ 3.700.000</td>\n",
       "    </tr>\n",
       "    <tr>\n",
       "      <th>2</th>\n",
       "      <td>Rua Alba Valdez</td>\n",
       "      <td>Jardim Reimberg</td>\n",
       "      <td>São Paulo</td>\n",
       "      <td>125</td>\n",
       "      <td>4</td>\n",
       "      <td>3</td>\n",
       "      <td>2</td>\n",
       "      <td>R$ 380.000</td>\n",
       "    </tr>\n",
       "    <tr>\n",
       "      <th>3</th>\n",
       "      <td>NaN</td>\n",
       "      <td>Jardim Morumbi</td>\n",
       "      <td>São Paulo</td>\n",
       "      <td>310</td>\n",
       "      <td>3</td>\n",
       "      <td>2</td>\n",
       "      <td>4</td>\n",
       "      <td>R$ 685.000</td>\n",
       "    </tr>\n",
       "    <tr>\n",
       "      <th>4</th>\n",
       "      <td>Rua Tobias Barreto, 195</td>\n",
       "      <td>Mooca</td>\n",
       "      <td>São Paulo</td>\n",
       "      <td>100</td>\n",
       "      <td>3</td>\n",
       "      <td>2</td>\n",
       "      <td>2</td>\n",
       "      <td>R$ 540.000</td>\n",
       "    </tr>\n",
       "  </tbody>\n",
       "</table>\n",
       "</div>"
      ],
      "text/plain": [
       "                              Rua              Bairro     Cidade  Metragem  \\\n",
       "0           Avenida Itacira, 255    Planalto Paulista  São Paulo      1000   \n",
       "1  Rua Aurelia Perez Alvarez, 42   Jardim dos Estados  São Paulo       496   \n",
       "2                 Rua Alba Valdez     Jardim Reimberg  São Paulo       125   \n",
       "3                             NaN      Jardim Morumbi  São Paulo       310   \n",
       "4        Rua Tobias Barreto, 195                Mooca  São Paulo       100   \n",
       "\n",
       "   Quartos  Banheiros  Vagas         Valor  \n",
       "0        4          8      6  R$ 7.000.000  \n",
       "1        4          4      4  R$ 3.700.000  \n",
       "2        4          3      2    R$ 380.000  \n",
       "3        3          2      4    R$ 685.000  \n",
       "4        3          2      2    R$ 540.000  "
      ]
     },
     "execution_count": 95,
     "metadata": {},
     "output_type": "execute_result"
    }
   ],
   "source": [
    "dados.head()"
   ]
  },
  {
   "cell_type": "code",
   "execution_count": 96,
   "id": "fc5c1a7c",
   "metadata": {
    "scrolled": true
   },
   "outputs": [
    {
     "data": {
      "text/html": [
       "<div>\n",
       "<style scoped>\n",
       "    .dataframe tbody tr th:only-of-type {\n",
       "        vertical-align: middle;\n",
       "    }\n",
       "\n",
       "    .dataframe tbody tr th {\n",
       "        vertical-align: top;\n",
       "    }\n",
       "\n",
       "    .dataframe thead th {\n",
       "        text-align: right;\n",
       "    }\n",
       "</style>\n",
       "<table border=\"1\" class=\"dataframe\">\n",
       "  <thead>\n",
       "    <tr style=\"text-align: right;\">\n",
       "      <th></th>\n",
       "      <th>Rua</th>\n",
       "      <th>Bairro</th>\n",
       "      <th>Cidade</th>\n",
       "      <th>Metragem</th>\n",
       "      <th>Quartos</th>\n",
       "      <th>Banheiros</th>\n",
       "      <th>Vagas</th>\n",
       "      <th>Valor</th>\n",
       "    </tr>\n",
       "  </thead>\n",
       "  <tbody>\n",
       "    <tr>\n",
       "      <th>0</th>\n",
       "      <td>Avenida Itacira, 255</td>\n",
       "      <td>Planalto Paulista</td>\n",
       "      <td>São Paulo</td>\n",
       "      <td>1000</td>\n",
       "      <td>4</td>\n",
       "      <td>8</td>\n",
       "      <td>6</td>\n",
       "      <td>R$ 7.000.000</td>\n",
       "    </tr>\n",
       "    <tr>\n",
       "      <th>1</th>\n",
       "      <td>Rua Aurelia Perez Alvarez, 42</td>\n",
       "      <td>Jardim dos Estados</td>\n",
       "      <td>São Paulo</td>\n",
       "      <td>496</td>\n",
       "      <td>4</td>\n",
       "      <td>4</td>\n",
       "      <td>4</td>\n",
       "      <td>R$ 3.700.000</td>\n",
       "    </tr>\n",
       "    <tr>\n",
       "      <th>2</th>\n",
       "      <td>Rua Alba Valdez</td>\n",
       "      <td>Jardim Reimberg</td>\n",
       "      <td>São Paulo</td>\n",
       "      <td>125</td>\n",
       "      <td>4</td>\n",
       "      <td>3</td>\n",
       "      <td>2</td>\n",
       "      <td>R$ 380.000</td>\n",
       "    </tr>\n",
       "    <tr>\n",
       "      <th>3</th>\n",
       "      <td>NaN</td>\n",
       "      <td>Jardim Morumbi</td>\n",
       "      <td>São Paulo</td>\n",
       "      <td>310</td>\n",
       "      <td>3</td>\n",
       "      <td>2</td>\n",
       "      <td>4</td>\n",
       "      <td>R$ 685.000</td>\n",
       "    </tr>\n",
       "    <tr>\n",
       "      <th>4</th>\n",
       "      <td>Rua Tobias Barreto, 195</td>\n",
       "      <td>Mooca</td>\n",
       "      <td>São Paulo</td>\n",
       "      <td>100</td>\n",
       "      <td>3</td>\n",
       "      <td>2</td>\n",
       "      <td>2</td>\n",
       "      <td>R$ 540.000</td>\n",
       "    </tr>\n",
       "    <tr>\n",
       "      <th>...</th>\n",
       "      <td>...</td>\n",
       "      <td>...</td>\n",
       "      <td>...</td>\n",
       "      <td>...</td>\n",
       "      <td>...</td>\n",
       "      <td>...</td>\n",
       "      <td>...</td>\n",
       "      <td>...</td>\n",
       "    </tr>\n",
       "    <tr>\n",
       "      <th>10003</th>\n",
       "      <td>Rua Tapuçu</td>\n",
       "      <td>Vila Sofia</td>\n",
       "      <td>São Paulo</td>\n",
       "      <td>95</td>\n",
       "      <td>2</td>\n",
       "      <td>2</td>\n",
       "      <td>2</td>\n",
       "      <td>R$ 665.000</td>\n",
       "    </tr>\n",
       "    <tr>\n",
       "      <th>10004</th>\n",
       "      <td>Rua Guararema</td>\n",
       "      <td>Bosque da Saúde</td>\n",
       "      <td>São Paulo</td>\n",
       "      <td>605</td>\n",
       "      <td>8</td>\n",
       "      <td>7</td>\n",
       "      <td>5</td>\n",
       "      <td>R$ 2.300.000</td>\n",
       "    </tr>\n",
       "    <tr>\n",
       "      <th>10005</th>\n",
       "      <td>Rua Estero Belaco</td>\n",
       "      <td>Vila da Saúde</td>\n",
       "      <td>São Paulo</td>\n",
       "      <td>205</td>\n",
       "      <td>3</td>\n",
       "      <td>3</td>\n",
       "      <td>6</td>\n",
       "      <td>R$ 1.050.000</td>\n",
       "    </tr>\n",
       "    <tr>\n",
       "      <th>10006</th>\n",
       "      <td>Rua Manuel Onha, , 514</td>\n",
       "      <td>Vila Oratório</td>\n",
       "      <td>São Paulo</td>\n",
       "      <td>185</td>\n",
       "      <td>3</td>\n",
       "      <td>2</td>\n",
       "      <td>2</td>\n",
       "      <td>R$ 2.200\\n                      /Mês</td>\n",
       "    </tr>\n",
       "    <tr>\n",
       "      <th>10007</th>\n",
       "      <td>Rua Barão de Tramandaí, 0</td>\n",
       "      <td>Vila Alpina</td>\n",
       "      <td>São Paulo</td>\n",
       "      <td>122</td>\n",
       "      <td>3</td>\n",
       "      <td>2</td>\n",
       "      <td>2</td>\n",
       "      <td>R$ 270.000</td>\n",
       "    </tr>\n",
       "  </tbody>\n",
       "</table>\n",
       "<p>10008 rows × 8 columns</p>\n",
       "</div>"
      ],
      "text/plain": [
       "                                  Rua              Bairro     Cidade  \\\n",
       "0               Avenida Itacira, 255    Planalto Paulista  São Paulo   \n",
       "1      Rua Aurelia Perez Alvarez, 42   Jardim dos Estados  São Paulo   \n",
       "2                     Rua Alba Valdez     Jardim Reimberg  São Paulo   \n",
       "3                                 NaN      Jardim Morumbi  São Paulo   \n",
       "4            Rua Tobias Barreto, 195                Mooca  São Paulo   \n",
       "...                               ...                 ...        ...   \n",
       "10003                      Rua Tapuçu          Vila Sofia  São Paulo   \n",
       "10004                   Rua Guararema     Bosque da Saúde  São Paulo   \n",
       "10005               Rua Estero Belaco       Vila da Saúde  São Paulo   \n",
       "10006         Rua Manuel Onha, , 514        Vila Oratório  São Paulo   \n",
       "10007      Rua Barão de Tramandaí, 0          Vila Alpina  São Paulo   \n",
       "\n",
       "       Metragem  Quartos  Banheiros  Vagas  \\\n",
       "0          1000        4          8      6   \n",
       "1           496        4          4      4   \n",
       "2           125        4          3      2   \n",
       "3           310        3          2      4   \n",
       "4           100        3          2      2   \n",
       "...         ...      ...        ...    ...   \n",
       "10003        95        2          2      2   \n",
       "10004       605        8          7      5   \n",
       "10005       205        3          3      6   \n",
       "10006       185        3          2      2   \n",
       "10007       122        3          2      2   \n",
       "\n",
       "                                      Valor  \n",
       "0                              R$ 7.000.000  \n",
       "1                              R$ 3.700.000  \n",
       "2                                R$ 380.000  \n",
       "3                                R$ 685.000  \n",
       "4                                R$ 540.000  \n",
       "...                                     ...  \n",
       "10003                            R$ 665.000  \n",
       "10004                          R$ 2.300.000  \n",
       "10005                          R$ 1.050.000  \n",
       "10006  R$ 2.200\\n                      /Mês  \n",
       "10007                            R$ 270.000  \n",
       "\n",
       "[10008 rows x 8 columns]"
      ]
     },
     "execution_count": 96,
     "metadata": {},
     "output_type": "execute_result"
    }
   ],
   "source": [
    "dados"
   ]
  },
  {
   "cell_type": "code",
   "execution_count": 97,
   "id": "7600f698",
   "metadata": {},
   "outputs": [
    {
     "data": {
      "text/plain": [
       "pandas.core.frame.DataFrame"
      ]
     },
     "execution_count": 97,
     "metadata": {},
     "output_type": "execute_result"
    }
   ],
   "source": [
    "type(dados)"
   ]
  },
  {
   "cell_type": "code",
   "execution_count": 98,
   "id": "933ef40c",
   "metadata": {},
   "outputs": [
    {
     "data": {
      "text/plain": [
       "0         Planalto Paulista\n",
       "1        Jardim dos Estados\n",
       "2           Jardim Reimberg\n",
       "3            Jardim Morumbi\n",
       "4                     Mooca\n",
       "                ...        \n",
       "10003            Vila Sofia\n",
       "10004       Bosque da Saúde\n",
       "10005         Vila da Saúde\n",
       "10006         Vila Oratório\n",
       "10007           Vila Alpina\n",
       "Name: Bairro, Length: 10008, dtype: object"
      ]
     },
     "execution_count": 98,
     "metadata": {},
     "output_type": "execute_result"
    }
   ],
   "source": [
    "dados[\"Bairro\"]"
   ]
  },
  {
   "cell_type": "code",
   "execution_count": 99,
   "id": "313dbe96",
   "metadata": {},
   "outputs": [
    {
     "data": {
      "text/plain": [
       "'Vila Paulo Silas'"
      ]
     },
     "execution_count": 99,
     "metadata": {},
     "output_type": "execute_result"
    }
   ],
   "source": [
    "dados[\"Bairro\"][6522]"
   ]
  },
  {
   "cell_type": "code",
   "execution_count": 100,
   "id": "5891f3ed",
   "metadata": {},
   "outputs": [
    {
     "data": {
      "text/plain": [
       "442.30065947242207"
      ]
     },
     "execution_count": 100,
     "metadata": {},
     "output_type": "execute_result"
    }
   ],
   "source": [
    "dados.Metragem.mean()"
   ]
  },
  {
   "cell_type": "code",
   "execution_count": 101,
   "id": "476e8977",
   "metadata": {},
   "outputs": [
    {
     "data": {
      "text/plain": [
       "0        False\n",
       "1        False\n",
       "2        False\n",
       "3        False\n",
       "4        False\n",
       "         ...  \n",
       "10003    False\n",
       "10004    False\n",
       "10005    False\n",
       "10006    False\n",
       "10007    False\n",
       "Name: Bairro, Length: 10008, dtype: bool"
      ]
     },
     "execution_count": 101,
     "metadata": {},
     "output_type": "execute_result"
    }
   ],
   "source": [
    "dados[\"Bairro\"] == \"Vila Mariana\" "
   ]
  },
  {
   "cell_type": "code",
   "execution_count": 102,
   "id": "126a886c",
   "metadata": {},
   "outputs": [
    {
     "data": {
      "text/plain": [
       "184"
      ]
     },
     "execution_count": 102,
     "metadata": {},
     "output_type": "execute_result"
    }
   ],
   "source": [
    "sum(dados[\"Bairro\"] == \"Vila Mariana\") "
   ]
  },
  {
   "cell_type": "code",
   "execution_count": 103,
   "id": "35322730",
   "metadata": {},
   "outputs": [],
   "source": [
    "tem_imoveis_vila = (dados[\"Bairro\"] == \"Vila Mariana\")"
   ]
  },
  {
   "cell_type": "code",
   "execution_count": 104,
   "id": "a4eb24a9",
   "metadata": {
    "scrolled": true
   },
   "outputs": [
    {
     "data": {
      "text/html": [
       "<div>\n",
       "<style scoped>\n",
       "    .dataframe tbody tr th:only-of-type {\n",
       "        vertical-align: middle;\n",
       "    }\n",
       "\n",
       "    .dataframe tbody tr th {\n",
       "        vertical-align: top;\n",
       "    }\n",
       "\n",
       "    .dataframe thead th {\n",
       "        text-align: right;\n",
       "    }\n",
       "</style>\n",
       "<table border=\"1\" class=\"dataframe\">\n",
       "  <thead>\n",
       "    <tr style=\"text-align: right;\">\n",
       "      <th></th>\n",
       "      <th>Rua</th>\n",
       "      <th>Bairro</th>\n",
       "      <th>Cidade</th>\n",
       "      <th>Metragem</th>\n",
       "      <th>Quartos</th>\n",
       "      <th>Banheiros</th>\n",
       "      <th>Vagas</th>\n",
       "      <th>Valor</th>\n",
       "    </tr>\n",
       "  </thead>\n",
       "  <tbody>\n",
       "    <tr>\n",
       "      <th>100</th>\n",
       "      <td>Rua Pero Correia</td>\n",
       "      <td>Vila Mariana</td>\n",
       "      <td>São Paulo</td>\n",
       "      <td>250</td>\n",
       "      <td>3</td>\n",
       "      <td>3</td>\n",
       "      <td>1</td>\n",
       "      <td>R$ 1.350.000</td>\n",
       "    </tr>\n",
       "    <tr>\n",
       "      <th>120</th>\n",
       "      <td>Praça Doutor Carvalho Franco</td>\n",
       "      <td>Vila Mariana</td>\n",
       "      <td>São Paulo</td>\n",
       "      <td>250</td>\n",
       "      <td>3</td>\n",
       "      <td>5</td>\n",
       "      <td>2</td>\n",
       "      <td>R$ 2.450.000</td>\n",
       "    </tr>\n",
       "    <tr>\n",
       "      <th>155</th>\n",
       "      <td>Rua Professor João Marinho</td>\n",
       "      <td>Vila Mariana</td>\n",
       "      <td>São Paulo</td>\n",
       "      <td>170</td>\n",
       "      <td>3</td>\n",
       "      <td>4</td>\n",
       "      <td>2</td>\n",
       "      <td>R$ 1.490.000</td>\n",
       "    </tr>\n",
       "    <tr>\n",
       "      <th>160</th>\n",
       "      <td>NaN</td>\n",
       "      <td>Vila Mariana</td>\n",
       "      <td>São Paulo</td>\n",
       "      <td>228</td>\n",
       "      <td>4</td>\n",
       "      <td>5</td>\n",
       "      <td>3</td>\n",
       "      <td>R$ 2.200.000</td>\n",
       "    </tr>\n",
       "    <tr>\n",
       "      <th>334</th>\n",
       "      <td>Rua Pero Correia, 892</td>\n",
       "      <td>Vila Mariana</td>\n",
       "      <td>São Paulo</td>\n",
       "      <td>350</td>\n",
       "      <td>6</td>\n",
       "      <td>4</td>\n",
       "      <td>10</td>\n",
       "      <td>R$ 1.700.000</td>\n",
       "    </tr>\n",
       "    <tr>\n",
       "      <th>...</th>\n",
       "      <td>...</td>\n",
       "      <td>...</td>\n",
       "      <td>...</td>\n",
       "      <td>...</td>\n",
       "      <td>...</td>\n",
       "      <td>...</td>\n",
       "      <td>...</td>\n",
       "      <td>...</td>\n",
       "    </tr>\n",
       "    <tr>\n",
       "      <th>9645</th>\n",
       "      <td>Rua Sousa Ramos</td>\n",
       "      <td>Vila Mariana</td>\n",
       "      <td>São Paulo</td>\n",
       "      <td>285</td>\n",
       "      <td>3</td>\n",
       "      <td>5</td>\n",
       "      <td>5</td>\n",
       "      <td>R$ 1.650.000</td>\n",
       "    </tr>\n",
       "    <tr>\n",
       "      <th>9701</th>\n",
       "      <td>Rua Benito Juarez</td>\n",
       "      <td>Vila Mariana</td>\n",
       "      <td>São Paulo</td>\n",
       "      <td>171</td>\n",
       "      <td>3</td>\n",
       "      <td>2</td>\n",
       "      <td>4</td>\n",
       "      <td>R$ 1.650.000</td>\n",
       "    </tr>\n",
       "    <tr>\n",
       "      <th>9737</th>\n",
       "      <td>Rua Benito Juarez</td>\n",
       "      <td>Vila Mariana</td>\n",
       "      <td>São Paulo</td>\n",
       "      <td>171</td>\n",
       "      <td>3</td>\n",
       "      <td>2</td>\n",
       "      <td>4</td>\n",
       "      <td>R$ 1.650.000</td>\n",
       "    </tr>\n",
       "    <tr>\n",
       "      <th>9807</th>\n",
       "      <td>NaN</td>\n",
       "      <td>Vila Mariana</td>\n",
       "      <td>São Paulo</td>\n",
       "      <td>275</td>\n",
       "      <td>3</td>\n",
       "      <td>1</td>\n",
       "      <td>6</td>\n",
       "      <td>R$ 1.500.000</td>\n",
       "    </tr>\n",
       "    <tr>\n",
       "      <th>9852</th>\n",
       "      <td>Rua França Pinto</td>\n",
       "      <td>Vila Mariana</td>\n",
       "      <td>São Paulo</td>\n",
       "      <td>280</td>\n",
       "      <td>3</td>\n",
       "      <td>3</td>\n",
       "      <td>4</td>\n",
       "      <td>R$ 1.600.000</td>\n",
       "    </tr>\n",
       "  </tbody>\n",
       "</table>\n",
       "<p>184 rows × 8 columns</p>\n",
       "</div>"
      ],
      "text/plain": [
       "                               Rua        Bairro     Cidade  Metragem  \\\n",
       "100               Rua Pero Correia  Vila Mariana  São Paulo       250   \n",
       "120   Praça Doutor Carvalho Franco  Vila Mariana  São Paulo       250   \n",
       "155     Rua Professor João Marinho  Vila Mariana  São Paulo       170   \n",
       "160                            NaN  Vila Mariana  São Paulo       228   \n",
       "334         Rua Pero Correia, 892   Vila Mariana  São Paulo       350   \n",
       "...                            ...           ...        ...       ...   \n",
       "9645               Rua Sousa Ramos  Vila Mariana  São Paulo       285   \n",
       "9701             Rua Benito Juarez  Vila Mariana  São Paulo       171   \n",
       "9737             Rua Benito Juarez  Vila Mariana  São Paulo       171   \n",
       "9807                           NaN  Vila Mariana  São Paulo       275   \n",
       "9852              Rua França Pinto  Vila Mariana  São Paulo       280   \n",
       "\n",
       "      Quartos  Banheiros  Vagas         Valor  \n",
       "100         3          3      1  R$ 1.350.000  \n",
       "120         3          5      2  R$ 2.450.000  \n",
       "155         3          4      2  R$ 1.490.000  \n",
       "160         4          5      3  R$ 2.200.000  \n",
       "334         6          4     10  R$ 1.700.000  \n",
       "...       ...        ...    ...           ...  \n",
       "9645        3          5      5  R$ 1.650.000  \n",
       "9701        3          2      4  R$ 1.650.000  \n",
       "9737        3          2      4  R$ 1.650.000  \n",
       "9807        3          1      6  R$ 1.500.000  \n",
       "9852        3          3      4  R$ 1.600.000  \n",
       "\n",
       "[184 rows x 8 columns]"
      ]
     },
     "execution_count": 104,
     "metadata": {},
     "output_type": "execute_result"
    }
   ],
   "source": [
    "dados[tem_imoveis_vila]"
   ]
  },
  {
   "cell_type": "code",
   "execution_count": 105,
   "id": "86d011e7",
   "metadata": {},
   "outputs": [],
   "source": [
    "tem_imoveis = dados[tem_imoveis_vila]"
   ]
  },
  {
   "cell_type": "code",
   "execution_count": 106,
   "id": "2f5ad50f",
   "metadata": {},
   "outputs": [
    {
     "data": {
      "text/plain": [
       "233.6195652173913"
      ]
     },
     "execution_count": 106,
     "metadata": {},
     "output_type": "execute_result"
    }
   ],
   "source": [
    "tem_imoveis[\"Metragem\"].mean()"
   ]
  },
  {
   "cell_type": "code",
   "execution_count": 107,
   "id": "93f8960a",
   "metadata": {},
   "outputs": [],
   "source": [
    "n_imoveis_bairros = dados[\"Bairro\"].value_counts()"
   ]
  },
  {
   "cell_type": "code",
   "execution_count": 109,
   "id": "dc81aa06",
   "metadata": {},
   "outputs": [
    {
     "data": {
      "text/plain": [
       "<AxesSubplot:>"
      ]
     },
     "execution_count": 109,
     "metadata": {},
     "output_type": "execute_result"
    },
    {
     "data": {
      "image/png": "[encoded data removed]",
      "text/plain": [
       "<Figure size 432x288 with 1 Axes>"
      ]
     },
     "metadata": {
      "needs_background": "light"
     },
     "output_type": "display_data"
    }
   ],
   "source": [
    "n_imoveis_bairros.sample(10).plot.bar()"
   ]
  },
  {
   "cell_type": "code",
   "execution_count": null,
   "id": "6a82e3ac",
   "metadata": {},
   "outputs": [],
   "source": []
  },
  {
   "cell_type": "code",
   "execution_count": null,
   "id": "76018234",
   "metadata": {},
   "outputs": [],
   "source": []
  }
 ],
 "metadata": {
  "kernelspec": {
   "display_name": "Python 3 (ipykernel)",
   "language": "python",
   "name": "python3"
  },
  "language_info": {
   "codemirror_mode": {
    "name": "ipython",
    "version": 3
   },
   "file_extension": ".py",
   "mimetype": "text/x-python",
   "name": "python",
   "nbconvert_exporter": "python",
   "pygments_lexer": "ipython3",
   "version": "3.9.12"
  }
 },
 "nbformat": 4,
 "nbformat_minor": 5
}
